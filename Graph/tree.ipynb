{
 "cells": [
  {
   "cell_type": "code",
   "execution_count": 1,
   "metadata": {},
   "outputs": [],
   "source": [
    "import json\n" 
    "import os"
   ]
  },
  {
   "cell_type": "code",
   "execution_count": 2,
   "metadata": {},
   "outputs": [],
   "source": [
    "nodes = []"
    "edges = []"

    "# Main source: https://isquared.digital/blog/2020-03-24-viz-tools-pt2-2/\n"
    "with open(os.path.join(os.pardir, 'data/IssueQueryResults.json'), 'r') as f:\n"
    "issueData = json.load(f) # setup issueData dictionary\n"

    "# Get project website for hrefs\n"
    "link = issueData.get(\"fields\").get(\"project\").get(\"self\")\n"
    "link = link.partition(\"rest\")[0] # remove rest api parts\n"
    "link = link + \"browse/\"\n"

    "# Setup primary node to connect to\n"
    "selectedNode = {\n"
       "\"data\": {\n"
            "\"id\": str(1),  # the string representation of the unique node ID\n"
            \"idInt\": 1,  # the numeric representation of the unique node ID\n"
            "\"name\": issueData.get(\"key\"),  # the name of the node used for printing\n"
            "\"href\": link + issueData.get(\"key\"),\n"
            "\"type\": issueData.get(\"fields\").get(\"issuetype\").get(\"name\") # issue type (Epic/Story/Task)\n"
        "},\n"
        "\"group\": \"nodes\",  # it belongs in the group of nodes\n"
        "\"removed\": False,\n"
        "\"selected\": False,  # the node is not selected on the graph\n"
        "\"selectable\": True,  # we can select the node\n"
        "\"locked\": False,  # the node position is not immutable\n"
        "\"grabbable\": True  # we can grab and move the node\n"
    "}\n"
    "nodes.append(selectedNode)\n"

    "# Get parent, if applicable\n"
    "if \"parent\" in issueData.get(\"fields\"):\n"
        "name = str(issueData.get("\fields\").get(\"parent\").get(\"key\"))\n"
        "node = {\n"
            "\"data\": {\n"
                "\"id\": str(0),  # the string representation of the unique node ID\n"
                "\"idInt\": 0,  # the numeric representation of the unique node ID\n"
                "\"name\": name,  # the name of the node used for printing\n"
                "\"href\": link + name,\n"
                "\"type\": issueData.get(\"fields\").get(\"issuetype\").get(\"name\") # issue type (Epic/Story/Task)\n"
            "},\n"
            "\"group\": \"nodes\",  # it belongs in the group of nodes\n"
            "\"removed\": False,\n"
            "\"selected\": False,  # the node is not selected on the graph\n"
            "\"selectable\": True,  # we can select the node\n"
            "\"locked\": False,  # the node position is not immutable\n"
            "\"grabbable\": True  # we can grab and move the node\n"
        "}\n"
        "nodes.append(node)\n"
        "edge = {\n"
            "\"data\": {\n"
                "\"source\": str(1),  # the source node id (edge comes from this node)(selected issue)\n"
                "\"target\": str(0),  # the target node id (edge goes to this node)(parent issue)\n"
                "\"directed\": True,\n"
                "\"id\": \"e\" + str(1)\n"
            "},\n"
            "\"position\": {},  # the initial position is not known\n"
            "\"group\": \"edges\",  # it belongs in the group of edges\n"
            "\"removed\": False,\n"
            "\"selected\": False,  # the edge is not selected\n"
            "\"selectable\": True,  # we can select the node\n"
            "\"locked\": False,  # the edge position is not immutable\n"
            "\"grabbable\": True,  # we can grab and move the node\n"
            "\"directed\": True  # the edge is directed\n"
        "}\n"
        "edges.append(edge)\n"

    "# Loop to get linked/blocking issues\n"
    "issueLinks = issueData.get(\"fields\").get(\"issuelinks\") # issuelinks is a list of dictionaries, not a single dictionary\n"
    "for i in range(0, len(issueLinks)):\n"
        "name = (issueLinks[i]).get(\"inwardIssue\").get(\"key\")\n"
        "node = {\n"
            "\"data\": {\n"
                "\"id\": str(i + 2),  # the string representation of the unique node ID\n"
                "\"idInt\": i + 2,  # the numeric representation of the unique node ID\n"
                "\"name\": name,  # the name of the node used for printing\n"
                "\"href\": link + name,\n"
                "\"type\": (issueLinks[i]).get(\"inwardIssue\").get(\"fields\").get(\"issuetype\").get(\"name\") # issue type (Epic/Story/Task)\n"
            },\n"
            "\"group\": \"nodes\",  # it belongs in the group of nodes\n"
            "\"removed\": False,\n"
            "\"selected\": False,  # the node is not selected\n"
            "\"selectable\": True,  # we can select the node\n"
            "\"locked\": False,  # the node position is not immutable\n"
            "\"grabbable\": True  # we can grab and move the node\n"
        "}\n"
        "nodes.append(node)\n"
        "edge = {\n"
            "\"data\": {\n"
                "\"source\": str(i + 2),  # the source node id (edge comes from this node)(current blocking issue)\n"
                "\"target\": str(1),  # the target node id (edge goes to this node)(selected issue)\n"
                "\"directed\": True,\n"
                "\"id\": \"e\" + str(i + 2)\n"
            "},\n"
            "\"position\": {},  # the initial position is not known\n"
            "\"group\": \"edges\",  # it belongs in the group of edges\n"
            "\"removed\": False,\n"
            "\"selected\": False,  # the edge is not selected\n"
            "\"selectable\": True,  # we can select the node\n"
            "\"locked\": False,  # the edge position is not immutable\n"
            "\"grabbable\": True,  # we can grab and move the node\n"
            "\"directed\": True  # the edge is directed\n"
        "}\n"
        "edges.append(edge)\n"

    "els = {}\n"
    "A = {}\n"
    "networks = {}\n"
    "els[\"nodes\"] = nodes\n"
    "els[\"edges\"] = edges\n"
    "A[\"elements\"] = els\n"
    "networks[\"A\"] = A\n"
    "with open(os.path.join(os.pardir, 'data/networks.js'), 'w') as f2: # create file in directory above\n"
        "filestart = \"var networks = \"\n"
        "f2.write(filestart)\n"
    "with open(os.path.join(os.pardir, 'data/networks.js'), 'a') as f2:\n"
        "f2.write(json.dumps(networks))  # add formatted nodes and edges to networks file"
    ]
 }
 ],
 "metadata": {
  "kernelspec": {
   "display_name": "Python (blog-env)",
   "language": "python",
   "name": "myenv"
  },
  "language_info": {
   "codemirror_mode": {
    "name": "ipython",
    "version": 3
   },
   "file_extension": ".py",
   "mimetype": "text/x-python",
   "name": "python",
   "nbconvert_exporter": "python",
   "pygments_lexer": "ipython3",
   "version": "3.7.0"
  }
 },
 "nbformat": 4,
 "nbformat_minor": 4
}